{
 "cells": [
  {
   "cell_type": "code",
   "execution_count": 189,
   "metadata": {
    "scrolled": true
   },
   "outputs": [],
   "source": [
    "from datetime import datetime\n",
    "\n",
    "from pyspark import Row\n",
    "from pyspark.sql import SparkSession, Window, functions as f\n",
    "from pyspark.sql.types import StructType, StructField, StringType, DoubleType, TimestampType, IntegerType"
   ]
  },
  {
   "cell_type": "code",
   "execution_count": 190,
   "metadata": {},
   "outputs": [],
   "source": [
    "spark = (SparkSession\n",
    "         .builder\n",
    "         .master(\"local[*]\")\n",
    "         .appName(\"data_exploration\")\n",
    "         .config(\"spark.driver.memory\", \"2g\")\n",
    "         .getOrCreate())\n",
    "\n",
    "sc = spark.sparkContext"
   ]
  },
  {
   "cell_type": "code",
   "execution_count": 191,
   "metadata": {},
   "outputs": [
    {
     "data": {
      "text/plain": "'http://192.168.0.16:4040'"
     },
     "execution_count": 191,
     "metadata": {},
     "output_type": "execute_result"
    }
   ],
   "source": [
    "sc.uiWebUrl"
   ]
  },
  {
   "cell_type": "markdown",
   "metadata": {},
   "source": [
    "To start the exploration, we use a few month worth of data from 2003 that know to contain a heatwave from the assignment description.\n",
    "\n",
    "Each file has several lines of headers that we need to strip.\n",
    "\n"
   ]
  },
  {
   "cell_type": "code",
   "execution_count": 192,
   "outputs": [],
   "source": [
    "def parse_float(string_to_parse: str):\n",
    "    string = string_to_parse.rstrip()\n",
    "    if string == \"\":\n",
    "        return None\n",
    "    else:\n",
    "        return float(string_to_parse)\n",
    "\n",
    "\n",
    "def parse_timestamp(string_to_parse: str):\n",
    "    string = string_to_parse.rstrip()\n",
    "    return datetime.strptime(string, \"%Y-%m-%d %H:%M:%S\")\n",
    "\n",
    "\n",
    "def parse_row(row: str):\n",
    "    return Row(\n",
    "        timestamp=parse_timestamp(row[:21]),\n",
    "        location=row[21:41].rstrip(),\n",
    "        location_name=row[41:89].rstrip(),\n",
    "        latitude=parse_float(row[89:109]),\n",
    "        longitude=parse_float(row[109:129]),\n",
    "        altitude=parse_float(row[129:149]),\n",
    "        u_bool_10=parse_float(row[149:169]),\n",
    "        t_dryb_10=parse_float(row[169:189]),\n",
    "        tn_10cm_past_6h_10=parse_float(row[189:209]),\n",
    "        t_dewp_10=parse_float(row[209:229]),\n",
    "        t_dewp_sea_10=parse_float(row[229:249]),\n",
    "        t_dryb_sea_10=parse_float(row[249:269]),\n",
    "        tn_dryb_10=parse_float(row[269:289]),\n",
    "        t_wetb_10=parse_float(row[289:309]),\n",
    "        tx_dryb_10=parse_float(row[309:329]),\n",
    "        u_10=parse_float(row[329:349]),\n",
    "        u_sea_10=parse_float(row[349:]),\n",
    "    )"
   ],
   "metadata": {
    "collapsed": false
   }
  },
  {
   "cell_type": "code",
   "execution_count": 193,
   "metadata": {},
   "outputs": [],
   "source": [
    "parse_input_rdd = (sc\n",
    "                   .textFile(\"../data/kis_tot_200*\", 4)\n",
    "                   .map(lambda x: x.split(\",\")[0])\n",
    "                   .filter(lambda x: not x.startswith(\"#\"))\n",
    "                   .map(lambda x: parse_row(x)))"
   ]
  },
  {
   "cell_type": "markdown",
   "metadata": {},
   "source": [
    "Create a schema based on the files' schema.\n",
    "\n",
    "| Field                | Description                                                         |\n",
    "|----------------------|---------------------------------------------------------------------|\n",
    "| `DTG`                | date of measurement                                                 |\n",
    "| `LOCATION`           | location of the meteorological station                              |\n",
    "| `NAME`               | name of the meteorological station                                  |\n",
    "| `LATITUDE`           | in degrees (WGS84)                                                  |\n",
    "| `LONGITUDE`          | in degrees (WGS84)                                                  |\n",
    "| `ALTITUDE`           | in 0.1 m relative to Mean Sea Level (MSL)                           |\n",
    "| `U_BOOL_10`          | air humidity code boolean 10' unit                                  |\n",
    "| `T_DRYB_10`          | air temperature 10' unit Celcius degrees                            |\n",
    "| `TN_10CM_PAST_6H_10` | air temperature minimum 0.1m 10' unit Celcius degrees               |\n",
    "| `T_DEWP_10`          | air temperature derived dewpoint - 10' unit Celcius degrees         |\n",
    "| `T_DEWP_SEA_10`      | air temperature derived dewpoint- sea 10' unit Celcius degrees      |\n",
    "| `T_DRYB_SEA_10`      | air temperature height oil platform 10 minutes unit Celcius degrees |\n",
    "| `TN_DRYB_10`         | air temperature minimum 10' unit Celcius degrees                    |\n",
    "| `T_WETB_10`          | air temperature derived wet bulb- 10' unit Celcius degrees          |\n",
    "| `TX_DRYB_10`         | air temperature maximum 10' unit Celcius degrees                    |\n",
    "| `U_10`               | relative air humidity 10' unit %                                    |\n",
    "| `U_SEA_10`           | is relative sea air humidity 10' unit %                             |"
   ]
  },
  {
   "cell_type": "code",
   "execution_count": 194,
   "outputs": [],
   "source": [
    "schema = StructType([\n",
    "    StructField(\"timestamp\", TimestampType(), False),\n",
    "    StructField(\"location\", StringType(), True),\n",
    "    StructField(\"location_name\", StringType(), True),\n",
    "    StructField(\"latitude\", DoubleType(), True),\n",
    "    StructField(\"longitude\", DoubleType(), True),\n",
    "    StructField(\"altitude\", DoubleType(), True),\n",
    "    StructField(\"u_bool_10\", DoubleType(), True),\n",
    "    StructField(\"t_dryb_10\", DoubleType(), True),\n",
    "    StructField(\"tn_10cm_past_6h_10\", DoubleType(), True),\n",
    "    StructField(\"t_dewp_10\", DoubleType(), True),\n",
    "    StructField(\"t_dewp_sea_10\", DoubleType(), True),\n",
    "    StructField(\"t_dryb_sea_10\", DoubleType(), True),\n",
    "    StructField(\"tn_dryb_10\", DoubleType(), True),\n",
    "    StructField(\"t_wetb_10\", DoubleType(), True),\n",
    "    StructField(\"tx_dryb_10\", DoubleType(), True),\n",
    "    StructField(\"u_10\", DoubleType(), True),\n",
    "    StructField(\"u_sea_10\", DoubleType(), True),\n",
    "])"
   ],
   "metadata": {
    "collapsed": false
   }
  },
  {
   "cell_type": "code",
   "execution_count": 195,
   "outputs": [],
   "source": [
    "df = (spark\n",
    "      .createDataFrame(parse_input_rdd, schema=schema)\n",
    "      .where(f.col(\"location\") == \"260_T_a\")\n",
    "      .select(\"timestamp\",\n",
    "              \"location_name\",\n",
    "              f.col(\"T_DRYB_10\").alias(\"temperature\"),\n",
    "              f.col(\"TN_DRYB_10\").alias(\"temperature_minimum\"),\n",
    "              f.col(\"TX_DRYB_10\").alias(\"temperature_maximum\"),\n",
    "              )\n",
    "      )"
   ],
   "metadata": {
    "collapsed": false
   }
  },
  {
   "cell_type": "code",
   "execution_count": 196,
   "outputs": [],
   "source": [
    "max_df = df.groupBy(f.to_date(\"timestamp\").alias(\"date\")).agg(f.max(f.coalesce(\"temperature_maximum\", \"temperature\")).alias(\"temperature\")).cache()"
   ],
   "metadata": {
    "collapsed": false
   }
  },
  {
   "cell_type": "code",
   "execution_count": null,
   "outputs": [
    {
     "name": "stderr",
     "output_type": "stream",
     "text": [
      "[Stage 494:======>                                              (37 + 16) / 304]\r"
     ]
    }
   ],
   "source": [
    "max_df.count()"
   ],
   "metadata": {
    "collapsed": false,
    "pycharm": {
     "is_executing": true
    }
   }
  },
  {
   "cell_type": "code",
   "execution_count": 200,
   "outputs": [],
   "source": [
    "# There's nothing to partition on in this case. All data will be moved to a single partition and be processed on a single worker.\n",
    "# This only works as long as the dataframe is sufficiently small (which it is at this point).\n",
    "window_spec = Window.orderBy(\"date\")\n",
    "\n",
    "is_start_of_sequence = f.col(\"number_of_days_to_preceding_rows_date\") > 1\n",
    "\n",
    "window_df = (max_df\n",
    "             # Only keep days which might be part of a heat wave.\n",
    "             .where(f.col(\"temperature\") >= 25)\n",
    "             # Ordering by date, calculate the date difference between each row and its preceding row.\n",
    "             .withColumn(\"number_of_days_to_preceding_rows_date\", f.datediff(\"date\", f.lag(\"date\").over(window_spec)))\n",
    "             # If the number of days to the preceding row is greater than 1 in a row, the date is the start of a new sequence.\n",
    "             .withColumn(\"sequence_start_date\", f.when(is_start_of_sequence, f.col(\"date\")))\n",
    "             # For all other rows, find the last non-null value (going upwards in the column/backwards in time).\n",
    "             .withColumn(\"sequence_start_date\",\n",
    "                         f.last(f.col(\"sequence_start_date\"), ignorenulls=True).over(window_spec))\n",
    "             )\n",
    "\n",
    "include_partial_sequence_at_beginning_of_date_range = False\n",
    "\n",
    "# Only required for bootstrapping. When processing a new batch of data for month n + 1 together with month n to recalculate potential heat waves lasting from month n to month + 1, we don't want to include partial data at the beginning of the month.\n",
    "# if include_partial_sequence_at_beginning_of_daterange:\n",
    "#TODO set start date where number_of_days_to_preceding_rows_date is null\n",
    "# else:\n",
    "#TODO filter rows where sequence_start_date is null\n",
    "\n",
    "window_df = window_df.where(f.col(\"sequence_start_date\").isNotNull())"
   ],
   "metadata": {
    "collapsed": false
   }
  },
  {
   "cell_type": "code",
   "execution_count": 201,
   "outputs": [
    {
     "name": "stderr",
     "output_type": "stream",
     "text": [
      "23/07/15 23:11:08 WARN WindowExec: No Partition Defined for Window operation! Moving all data to a single partition, this can cause serious performance degradation.\n",
      "23/07/15 23:11:08 WARN WindowExec: No Partition Defined for Window operation! Moving all data to a single partition, this can cause serious performance degradation.\n",
      "23/07/15 23:11:08 WARN WindowExec: No Partition Defined for Window operation! Moving all data to a single partition, this can cause serious performance degradation.\n",
      "23/07/15 23:11:08 WARN WindowExec: No Partition Defined for Window operation! Moving all data to a single partition, this can cause serious performance degradation.\n",
      "23/07/15 23:11:08 WARN WindowExec: No Partition Defined for Window operation! Moving all data to a single partition, this can cause serious performance degradation.\n",
      "23/07/15 23:30:42 WARN WindowExec: No Partition Defined for Window operation! Moving all data to a single partition, this can cause serious performance degradation.\n",
      "23/07/15 23:30:42 WARN WindowExec: No Partition Defined for Window operation! Moving all data to a single partition, this can cause serious performance degradation.\n",
      "23/07/15 23:30:42 WARN WindowExec: No Partition Defined for Window operation! Moving all data to a single partition, this can cause serious performance degradation.\n",
      "23/07/15 23:30:42 WARN WindowExec: No Partition Defined for Window operation! Moving all data to a single partition, this can cause serious performance degradation.\n",
      "                                                                                \r"
     ]
    },
    {
     "name": "stdout",
     "output_type": "stream",
     "text": [
      "+----------+-----------+-------------------------------------+-------------------+\n",
      "|      date|temperature|number_of_days_to_preceding_rows_date|sequence_start_date|\n",
      "+----------+-----------+-------------------------------------+-------------------+\n",
      "|2003-06-04|       28.9|                                    2|         2003-06-04|\n",
      "|2003-06-06|       25.0|                                    2|         2003-06-06|\n",
      "|2003-06-07|       26.5|                                    1|         2003-06-06|\n",
      "|2003-06-08|       25.4|                                    1|         2003-06-06|\n",
      "|2003-06-10|       25.4|                                    2|         2003-06-10|\n",
      "|2003-06-16|       25.0|                                    6|         2003-06-16|\n",
      "|2003-06-17|       25.4|                                    1|         2003-06-16|\n",
      "|2003-06-22|       25.3|                                    5|         2003-06-22|\n",
      "|2003-06-23|       26.5|                                    1|         2003-06-22|\n",
      "|2003-06-26|       25.0|                                    3|         2003-06-26|\n",
      "|2003-06-27|       27.5|                                    1|         2003-06-26|\n",
      "|2003-07-10|       26.1|                                   13|         2003-07-10|\n",
      "|2003-07-11|       25.9|                                    1|         2003-07-10|\n",
      "|2003-07-13|       25.1|                                    2|         2003-07-13|\n",
      "|2003-07-14|       27.8|                                    1|         2003-07-13|\n",
      "|2003-07-15|       31.2|                                    1|         2003-07-13|\n",
      "|2003-07-16|       34.3|                                    1|         2003-07-13|\n",
      "|2003-07-18|       25.0|                                    2|         2003-07-18|\n",
      "|2003-07-19|       31.1|                                    1|         2003-07-18|\n",
      "|2003-07-20|       30.7|                                    1|         2003-07-18|\n",
      "|2003-07-21|       28.1|                                    1|         2003-07-18|\n",
      "|2003-07-22|       25.2|                                    1|         2003-07-18|\n",
      "|2003-07-23|       26.3|                                    1|         2003-07-18|\n",
      "|2003-07-29|       27.1|                                    6|         2003-07-29|\n",
      "|2003-07-31|       26.9|                                    2|         2003-07-31|\n",
      "|2003-08-01|       28.3|                                    1|         2003-07-31|\n",
      "|2003-08-02|       26.7|                                    1|         2003-07-31|\n",
      "|2003-08-03|       26.9|                                    1|         2003-07-31|\n",
      "|2003-08-04|       29.7|                                    1|         2003-07-31|\n",
      "|2003-08-05|       30.8|                                    1|         2003-07-31|\n",
      "|2003-08-06|       33.9|                                    1|         2003-07-31|\n",
      "|2003-08-07|       35.0|                                    1|         2003-07-31|\n",
      "|2003-08-08|       30.9|                                    1|         2003-07-31|\n",
      "|2003-08-09|       26.5|                                    1|         2003-07-31|\n",
      "|2003-08-10|       30.4|                                    1|         2003-07-31|\n",
      "|2003-08-11|       31.5|                                    1|         2003-07-31|\n",
      "|2003-08-12|       33.8|                                    1|         2003-07-31|\n",
      "|2003-08-13|       26.1|                                    1|         2003-07-31|\n",
      "|2003-09-05|       25.0|                                   23|         2003-09-05|\n",
      "|2003-09-17|       25.3|                                   12|         2003-09-17|\n",
      "|2003-09-18|       28.6|                                    1|         2003-09-17|\n",
      "|2003-09-20|       27.4|                                    2|         2003-09-20|\n",
      "|2003-09-22|       26.1|                                    2|         2003-09-22|\n",
      "|2004-02-16|       28.3|                                  147|         2004-02-16|\n",
      "|2004-06-07|       26.6|                                  112|         2004-06-07|\n",
      "|2004-06-08|       29.7|                                    1|         2004-06-07|\n",
      "|2004-06-09|       25.4|                                    1|         2004-06-07|\n",
      "|2004-07-17|       28.7|                                   38|         2004-07-17|\n",
      "|2004-07-22|       26.2|                                    5|         2004-07-22|\n",
      "|2004-07-29|       26.2|                                    7|         2004-07-29|\n",
      "|2004-07-30|       27.8|                                    1|         2004-07-29|\n",
      "|2004-07-31|       25.8|                                    1|         2004-07-29|\n",
      "|2004-08-02|       26.2|                                    2|         2004-08-02|\n",
      "|2004-08-03|       27.4|                                    1|         2004-08-02|\n",
      "|2004-08-04|       28.1|                                    1|         2004-08-02|\n",
      "|2004-08-05|       29.6|                                    1|         2004-08-02|\n",
      "|2004-08-06|       30.0|                                    1|         2004-08-02|\n",
      "|2004-08-07|       25.6|                                    1|         2004-08-02|\n",
      "|2004-08-08|       31.0|                                    1|         2004-08-02|\n",
      "|2004-08-09|       32.5|                                    1|         2004-08-02|\n",
      "|2004-08-10|       28.4|                                    1|         2004-08-02|\n",
      "|2004-08-11|       26.3|                                    1|         2004-08-02|\n",
      "|2004-08-15|       25.3|                                    4|         2004-08-15|\n",
      "|2004-08-18|       26.2|                                    3|         2004-08-18|\n",
      "|2004-09-03|       26.0|                                   16|         2004-09-03|\n",
      "|2004-09-04|       26.0|                                    1|         2004-09-03|\n",
      "|2004-09-05|       28.0|                                    1|         2004-09-03|\n",
      "|2004-09-06|       26.3|                                    1|         2004-09-03|\n",
      "|2004-09-10|       25.9|                                    4|         2004-09-10|\n",
      "|2005-05-01|       28.5|                                  233|         2005-05-01|\n",
      "|2005-05-26|       29.1|                                   25|         2005-05-26|\n",
      "|2005-05-27|       30.7|                                    1|         2005-05-26|\n",
      "|2005-05-28|       25.0|                                    1|         2005-05-26|\n",
      "|2005-06-03|       25.7|                                    6|         2005-06-03|\n",
      "|2005-06-18|       26.1|                                   15|         2005-06-18|\n",
      "|2005-06-19|       29.8|                                    1|         2005-06-18|\n",
      "|2005-06-20|       32.8|                                    1|         2005-06-18|\n",
      "|2005-06-21|       25.7|                                    1|         2005-06-18|\n",
      "|2005-06-22|       25.8|                                    1|         2005-06-18|\n",
      "|2005-06-23|       30.7|                                    1|         2005-06-18|\n",
      "|2005-06-24|       32.6|                                    1|         2005-06-18|\n",
      "|2005-06-28|       25.6|                                    4|         2005-06-28|\n",
      "|2005-06-29|       26.1|                                    1|         2005-06-28|\n",
      "|2005-07-03|       25.2|                                    4|         2005-07-03|\n",
      "|2005-07-10|       27.4|                                    7|         2005-07-10|\n",
      "|2005-07-12|       25.7|                                    2|         2005-07-12|\n",
      "|2005-07-13|       25.1|                                    1|         2005-07-12|\n",
      "|2005-07-14|       28.1|                                    1|         2005-07-12|\n",
      "|2005-07-18|       26.1|                                    4|         2005-07-18|\n",
      "|2005-07-28|       28.5|                                   10|         2005-07-28|\n",
      "|2005-07-29|       26.2|                                    1|         2005-07-28|\n",
      "|2005-08-18|       27.2|                                   20|         2005-08-18|\n",
      "|2005-08-19|       25.7|                                    1|         2005-08-18|\n",
      "|2005-08-29|       25.4|                                   10|         2005-08-29|\n",
      "|2005-08-30|       26.1|                                    1|         2005-08-29|\n",
      "|2005-08-31|       28.9|                                    1|         2005-08-29|\n",
      "|2005-09-04|       25.0|                                    4|         2005-09-04|\n",
      "|2005-09-05|       26.8|                                    1|         2005-09-04|\n",
      "|2005-09-06|       25.8|                                    1|         2005-09-04|\n",
      "|2005-09-07|       25.4|                                    1|         2005-09-04|\n",
      "|2005-09-08|       27.6|                                    1|         2005-09-04|\n",
      "|2005-09-09|       26.6|                                    1|         2005-09-04|\n",
      "|2005-09-10|       26.0|                                    1|         2005-09-04|\n",
      "|2006-05-04|       26.3|                                  236|         2006-05-04|\n",
      "|2006-05-05|       25.3|                                    1|         2006-05-04|\n",
      "|2006-05-08|       25.0|                                    3|         2006-05-08|\n",
      "|2006-05-09|       25.0|                                    1|         2006-05-08|\n",
      "|2006-05-10|       25.5|                                    1|         2006-05-08|\n",
      "|2006-05-11|       25.8|                                    1|         2006-05-08|\n",
      "|2006-06-09|       25.6|                                   29|         2006-06-09|\n",
      "|2006-06-10|       28.0|                                    1|         2006-06-09|\n",
      "|2006-06-11|       30.0|                                    1|         2006-06-09|\n",
      "|2006-06-12|       29.8|                                    1|         2006-06-09|\n",
      "|2006-06-13|       31.5|                                    1|         2006-06-09|\n",
      "|2006-06-18|       29.0|                                    5|         2006-06-18|\n",
      "|2006-06-24|       25.5|                                    6|         2006-06-24|\n",
      "|2006-06-30|       27.0|                                    6|         2006-06-30|\n",
      "|2006-07-01|       29.7|                                    1|         2006-06-30|\n",
      "|2006-07-02|       30.2|                                    1|         2006-06-30|\n",
      "|2006-07-03|       30.1|                                    1|         2006-06-30|\n",
      "|2006-07-04|       32.0|                                    1|         2006-06-30|\n",
      "|2006-07-05|       29.6|                                    1|         2006-06-30|\n",
      "|2006-07-06|       28.3|                                    1|         2006-06-30|\n",
      "|2006-07-09|       26.2|                                    3|         2006-07-09|\n",
      "|2006-07-10|       26.4|                                    1|         2006-07-09|\n",
      "|2006-07-12|       25.2|                                    2|         2006-07-12|\n",
      "|2006-07-13|       26.9|                                    1|         2006-07-12|\n",
      "|2006-07-15|       26.9|                                    2|         2006-07-15|\n",
      "|2006-07-16|       30.2|                                    1|         2006-07-15|\n",
      "|2006-07-17|       32.0|                                    1|         2006-07-15|\n",
      "|2006-07-18|       33.2|                                    1|         2006-07-15|\n",
      "|2006-07-19|       35.7|                                    1|         2006-07-15|\n",
      "|2006-07-20|       29.9|                                    1|         2006-07-15|\n",
      "|2006-07-21|       30.3|                                    1|         2006-07-15|\n",
      "|2006-07-22|       31.2|                                    1|         2006-07-15|\n",
      "|2006-07-23|       28.4|                                    1|         2006-07-15|\n",
      "|2006-07-24|       29.2|                                    1|         2006-07-15|\n",
      "|2006-07-25|       31.6|                                    1|         2006-07-15|\n",
      "|2006-07-26|       32.7|                                    1|         2006-07-15|\n",
      "|2006-07-27|       28.7|                                    1|         2006-07-15|\n",
      "|2006-07-28|       28.1|                                    1|         2006-07-15|\n",
      "|2006-07-29|       29.1|                                    1|         2006-07-15|\n",
      "|2006-07-30|       28.7|                                    1|         2006-07-15|\n",
      "|2006-08-05|       25.5|                                    6|         2006-08-05|\n",
      "|2006-08-06|       25.5|                                    1|         2006-08-05|\n",
      "|2006-08-19|       25.1|                                   13|         2006-08-19|\n",
      "|2006-09-06|       25.7|                                   18|         2006-09-06|\n",
      "|2006-09-11|       26.5|                                    5|         2006-09-11|\n",
      "|2006-09-12|       27.8|                                    1|         2006-09-11|\n",
      "|2006-09-13|       28.1|                                    1|         2006-09-11|\n",
      "|2006-09-14|       27.7|                                    1|         2006-09-11|\n",
      "|2006-09-15|       26.6|                                    1|         2006-09-11|\n",
      "|2006-09-16|       27.0|                                    1|         2006-09-11|\n",
      "|2006-09-22|       26.3|                                    6|         2006-09-22|\n",
      "|2007-04-14|       27.6|                                  204|         2007-04-14|\n",
      "|2007-04-15|       28.9|                                    1|         2007-04-14|\n",
      "|2007-04-16|       27.3|                                    1|         2007-04-14|\n",
      "|2007-04-25|       27.7|                                    9|         2007-04-25|\n",
      "|2007-04-26|       25.6|                                    1|         2007-04-25|\n",
      "|2007-04-27|       27.4|                                    1|         2007-04-25|\n",
      "|2007-04-28|       26.5|                                    1|         2007-04-25|\n",
      "|2007-05-25|       25.5|                                   27|         2007-05-25|\n",
      "|2007-06-07|       27.0|                                   13|         2007-06-07|\n",
      "|2007-06-08|       31.6|                                    1|         2007-06-07|\n",
      "|2007-06-11|       25.6|                                    3|         2007-06-11|\n",
      "|2007-06-19|       25.5|                                    8|         2007-06-19|\n",
      "|2007-07-15|       28.9|                                   26|         2007-07-15|\n",
      "|2007-07-16|       27.5|                                    1|         2007-07-15|\n",
      "|2007-07-19|       25.1|                                    3|         2007-07-19|\n",
      "|2007-08-04|       26.2|                                   16|         2007-08-04|\n",
      "|2007-08-05|       28.6|                                    1|         2007-08-04|\n",
      "|2007-08-06|       28.0|                                    1|         2007-08-04|\n",
      "|2007-08-15|       25.6|                                    9|         2007-08-15|\n",
      "|2007-08-24|       25.4|                                    9|         2007-08-24|\n",
      "|2008-05-07|       25.5|                                  257|         2008-05-07|\n",
      "|2008-05-08|       25.1|                                    1|         2008-05-07|\n",
      "|2008-05-09|       26.3|                                    1|         2008-05-07|\n",
      "|2008-05-10|       27.4|                                    1|         2008-05-07|\n",
      "|2008-05-11|       26.3|                                    1|         2008-05-07|\n",
      "|2008-05-12|       26.9|                                    1|         2008-05-07|\n",
      "|2008-05-13|       26.0|                                    1|         2008-05-07|\n",
      "|2008-05-14|       26.6|                                    1|         2008-05-07|\n",
      "|2008-05-28|       25.8|                                   14|         2008-05-28|\n",
      "|2008-06-02|       28.8|                                    5|         2008-06-02|\n",
      "|2008-06-06|       25.1|                                    4|         2008-06-06|\n",
      "|2008-06-08|       26.7|                                    2|         2008-06-08|\n",
      "|2008-06-09|       26.5|                                    1|         2008-06-08|\n",
      "|2008-06-22|       26.6|                                   13|         2008-06-22|\n",
      "|2008-07-01|       27.7|                                    9|         2008-07-01|\n",
      "|2008-07-02|       31.2|                                    1|         2008-07-01|\n",
      "|2008-07-24|       26.0|                                   22|         2008-07-24|\n",
      "|2008-07-25|       28.1|                                    1|         2008-07-24|\n",
      "|2008-07-26|       28.9|                                    1|         2008-07-24|\n",
      "|2008-07-27|       28.2|                                    1|         2008-07-24|\n",
      "|2008-07-28|       27.9|                                    1|         2008-07-24|\n",
      "|2008-07-30|       27.2|                                    2|         2008-07-30|\n",
      "|2008-07-31|       29.8|                                    1|         2008-07-30|\n",
      "|2008-08-06|       27.0|                                    6|         2008-08-06|\n",
      "|2008-08-31|       27.6|                                   25|         2008-08-31|\n",
      "|2008-09-11|       26.4|                                   11|         2008-09-11|\n",
      "+----------+-----------+-------------------------------------+-------------------+\n",
      "only showing top 200 rows\n",
      "\n"
     ]
    }
   ],
   "source": [
    "window_df.show(200)"
   ],
   "metadata": {
    "collapsed": false
   }
  },
  {
   "cell_type": "code",
   "execution_count": 202,
   "outputs": [
    {
     "name": "stderr",
     "output_type": "stream",
     "text": [
      "23/07/15 23:30:42 WARN WindowExec: No Partition Defined for Window operation! Moving all data to a single partition, this can cause serious performance degradation.\n",
      "23/07/15 23:30:42 WARN WindowExec: No Partition Defined for Window operation! Moving all data to a single partition, this can cause serious performance degradation.\n",
      "23/07/15 23:30:42 WARN WindowExec: No Partition Defined for Window operation! Moving all data to a single partition, this can cause serious performance degradation.\n",
      "23/07/15 23:30:42 WARN WindowExec: No Partition Defined for Window operation! Moving all data to a single partition, this can cause serious performance degradation.\n"
     ]
    },
    {
     "name": "stdout",
     "output_type": "stream",
     "text": [
      "+----------+-------------+------------------+-----------------------+---------------+\n",
      "| From date|To date (inc)|Duration (in days)|Number of tropical days|Max temperature|\n",
      "+----------+-------------+------------------+-----------------------+---------------+\n",
      "|2003-07-31|   2003-08-14|                14|                      7|           35.0|\n",
      "|2004-08-02|   2004-08-12|                10|                      3|           32.5|\n",
      "|2005-06-18|   2005-06-25|                 7|                      3|           32.8|\n",
      "|2006-06-30|   2006-07-07|                 7|                      3|           32.0|\n",
      "|2006-07-15|   2006-07-31|                16|                      8|           35.7|\n",
      "+----------+-------------+------------------+-----------------------+---------------+\n",
      "\n"
     ]
    },
    {
     "name": "stderr",
     "output_type": "stream",
     "text": [
      "23/07/15 23:30:43 WARN WindowExec: No Partition Defined for Window operation! Moving all data to a single partition, this can cause serious performance degradation.\n",
      "23/07/15 23:30:43 WARN WindowExec: No Partition Defined for Window operation! Moving all data to a single partition, this can cause serious performance degradation.\n",
      "23/07/15 23:30:43 WARN WindowExec: No Partition Defined for Window operation! Moving all data to a single partition, this can cause serious performance degradation.\n",
      "23/07/15 23:30:43 WARN WindowExec: No Partition Defined for Window operation! Moving all data to a single partition, this can cause serious performance degradation.\n"
     ]
    }
   ],
   "source": [
    "is_tropical_day = f.col(\"temperature\") >= 30.0\n",
    "\n",
    "result_df = (\n",
    "    window_df\n",
    "    .withColumn(\"tropical_day\", f.when(is_tropical_day, 1))\n",
    "    .groupBy(f.col(\"sequence_start_date\").alias(\"From date\"))\n",
    "    .agg(\n",
    "        f.count(\"*\").alias(\"Duration (in days)\"),\n",
    "        f.sum(\"tropical_day\").alias(\"Number of tropical days\"),\n",
    "        f.max(\"temperature\").alias(\"Max temperature\")\n",
    "    )\n",
    "    .withColumn(\"To date (inc)\", f.date_add(\"From date\", f.col(\"Duration (in days)\").cast(IntegerType())))\n",
    "    .where((f.col(\"Duration (in days)\") >= 5) & (f.col(\"Number of tropical days\") >= 3))\n",
    "    .select(\"From date\", \"To date (inc)\", \"Duration (in days)\", \"Number of tropical days\", \"Max temperature\")\n",
    ")\n",
    "\n",
    "result_df.show()"
   ],
   "metadata": {
    "collapsed": false
   }
  }
 ],
 "metadata": {
  "kernelspec": {
   "display_name": "Python 3 (ipykernel)",
   "language": "python",
   "name": "python3"
  },
  "language_info": {
   "codemirror_mode": {
    "name": "ipython",
    "version": 3
   },
   "file_extension": ".py",
   "mimetype": "text/x-python",
   "name": "python",
   "nbconvert_exporter": "python",
   "pygments_lexer": "ipython3",
   "version": "3.11.4"
  }
 },
 "nbformat": 4,
 "nbformat_minor": 1
}

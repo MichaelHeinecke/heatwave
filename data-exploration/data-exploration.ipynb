{
 "cells": [
  {
   "cell_type": "code",
   "execution_count": 66,
   "metadata": {
    "scrolled": true
   },
   "outputs": [],
   "source": [
    "from datetime import datetime\n",
    "\n",
    "from pyspark import Row\n",
    "from pyspark.sql import SparkSession, Window, functions as f\n",
    "from pyspark.sql.types import StructType, StructField, StringType, DoubleType, TimestampType"
   ]
  },
  {
   "cell_type": "code",
   "execution_count": 67,
   "metadata": {},
   "outputs": [],
   "source": [
    "spark = (SparkSession\n",
    "         .builder\n",
    "         .master(\"local[*]\")\n",
    "         .appName(\"data_exploration\")\n",
    "         .config(\"spark.driver.memory\", \"2g\")\n",
    "         .getOrCreate())\n",
    "\n",
    "sc = spark.sparkContext"
   ]
  },
  {
   "cell_type": "code",
   "execution_count": 68,
   "metadata": {},
   "outputs": [
    {
     "data": {
      "text/plain": "'http://192.168.0.16:4040'"
     },
     "execution_count": 68,
     "metadata": {},
     "output_type": "execute_result"
    }
   ],
   "source": [
    "sc.uiWebUrl"
   ]
  },
  {
   "cell_type": "markdown",
   "metadata": {},
   "source": [
    "To start the exploration, we use a few month worth of data from 2003 that know to contain a heatwave from the assignment description.\n",
    "\n",
    "Each file has several lines of headers that we need to strip.\n",
    "\n"
   ]
  },
  {
   "cell_type": "code",
   "execution_count": 69,
   "outputs": [],
   "source": [
    "def parse_float(string_to_parse: str):\n",
    "    string = string_to_parse.rstrip()\n",
    "    if string == \"\":\n",
    "        return None\n",
    "    else:\n",
    "        return float(string_to_parse)\n",
    "\n",
    "\n",
    "def parse_timestamp(string_to_parse: str):\n",
    "    string = string_to_parse.rstrip()\n",
    "    return datetime.strptime(string, \"%Y-%m-%d %H:%M:%S\")\n",
    "\n",
    "\n",
    "def parse_row(row: str):\n",
    "    return Row(\n",
    "        timestamp=parse_timestamp(row[:21]),\n",
    "        location=row[21:41].rstrip(),\n",
    "        location_name=row[41:89].rstrip(),\n",
    "        latitude=parse_float(row[89:109]),\n",
    "        longitude=parse_float(row[109:129]),\n",
    "        altitude=parse_float(row[129:149]),\n",
    "        u_bool_10=parse_float(row[149:169]),\n",
    "        t_dryb_10=parse_float(row[169:189]),\n",
    "        tn_10cm_past_6h_10=parse_float(row[189:209]),\n",
    "        t_dewp_10=parse_float(row[209:229]),\n",
    "        t_dewp_sea_10=parse_float(row[229:249]),\n",
    "        t_dryb_sea_10=parse_float(row[249:269]),\n",
    "        tn_dryb_10=parse_float(row[269:289]),\n",
    "        t_wetb_10=parse_float(row[289:309]),\n",
    "        tx_dryb_10=parse_float(row[309:329]),\n",
    "        u_10=parse_float(row[329:349]),\n",
    "        u_sea_10=parse_float(row[349:]),\n",
    "    )"
   ],
   "metadata": {
    "collapsed": false
   }
  },
  {
   "cell_type": "code",
   "execution_count": 70,
   "metadata": {},
   "outputs": [],
   "source": [
    "parse_input_rdd = (sc\n",
    "                   .textFile(\"../data/kis_tot_20030*\", 3)\n",
    "                   .map(lambda x: x.split(\",\")[0])\n",
    "                   .filter(lambda x: not x.startswith(\"#\"))\n",
    "                   .map(lambda x: parse_row(x)))"
   ]
  },
  {
   "cell_type": "markdown",
   "metadata": {},
   "source": [
    "Create a schema based on the files' schema.\n",
    "\n",
    "| Field                | Description                                                         |\n",
    "|----------------------|---------------------------------------------------------------------|\n",
    "| `DTG`                | date of measurement                                                 |\n",
    "| `LOCATION`           | location of the meteorological station                              |\n",
    "| `NAME`               | name of the meteorological station                                  |\n",
    "| `LATITUDE`           | in degrees (WGS84)                                                  |\n",
    "| `LONGITUDE`          | in degrees (WGS84)                                                  |\n",
    "| `ALTITUDE`           | in 0.1 m relative to Mean Sea Level (MSL)                           |\n",
    "| `U_BOOL_10`          | air humidity code boolean 10' unit                                  |\n",
    "| `T_DRYB_10`          | air temperature 10' unit Celcius degrees                            |\n",
    "| `TN_10CM_PAST_6H_10` | air temperature minimum 0.1m 10' unit Celcius degrees               |\n",
    "| `T_DEWP_10`          | air temperature derived dewpoint - 10' unit Celcius degrees         |\n",
    "| `T_DEWP_SEA_10`      | air temperature derived dewpoint- sea 10' unit Celcius degrees      |\n",
    "| `T_DRYB_SEA_10`      | air temperature height oil platform 10 minutes unit Celcius degrees |\n",
    "| `TN_DRYB_10`         | air temperature minimum 10' unit Celcius degrees                    |\n",
    "| `T_WETB_10`          | air temperature derived wet bulb- 10' unit Celcius degrees          |\n",
    "| `TX_DRYB_10`         | air temperature maximum 10' unit Celcius degrees                    |\n",
    "| `U_10`               | relative air humidity 10' unit %                                    |\n",
    "| `U_SEA_10`           | is relative sea air humidity 10' unit %                             |"
   ]
  },
  {
   "cell_type": "code",
   "execution_count": 71,
   "outputs": [],
   "source": [
    "schema = StructType([\n",
    "    StructField(\"timestamp\", TimestampType(), False),\n",
    "    StructField(\"location\", StringType(), True),\n",
    "    StructField(\"location_name\", StringType(), True),\n",
    "    StructField(\"latitude\", DoubleType(), True),\n",
    "    StructField(\"longitude\", DoubleType(), True),\n",
    "    StructField(\"altitude\", DoubleType(), True),\n",
    "    StructField(\"u_bool_10\", DoubleType(), True),\n",
    "    StructField(\"t_dryb_10\", DoubleType(), True),\n",
    "    StructField(\"tn_10cm_past_6h_10\", DoubleType(), True),\n",
    "    StructField(\"t_dewp_10\", DoubleType(), True),\n",
    "    StructField(\"t_dewp_sea_10\", DoubleType(), True),\n",
    "    StructField(\"t_dryb_sea_10\", DoubleType(), True),\n",
    "    StructField(\"tn_dryb_10\", DoubleType(), True),\n",
    "    StructField(\"t_wetb_10\", DoubleType(), True),\n",
    "    StructField(\"tx_dryb_10\", DoubleType(), True),\n",
    "    StructField(\"u_10\", DoubleType(), True),\n",
    "    StructField(\"u_sea_10\", DoubleType(), True),\n",
    "])"
   ],
   "metadata": {
    "collapsed": false
   }
  },
  {
   "cell_type": "code",
   "execution_count": 72,
   "outputs": [],
   "source": [
    "df = (spark\n",
    "      .createDataFrame(parse_input_rdd, schema=schema)\n",
    "      .where(f.col(\"location\") == \"260_T_a\")\n",
    "      .select(\"timestamp\",\n",
    "              \"location_name\",\n",
    "              f.col(\"T_DRYB_10\").alias(\"temperature\"),\n",
    "              f.col(\"TN_DRYB_10\").alias(\"temperature_minimum\"),\n",
    "              f.col(\"TX_DRYB_10\").alias(\"temperature_maximum\"),\n",
    "              )\n",
    "      )"
   ],
   "metadata": {
    "collapsed": false
   }
  },
  {
   "cell_type": "code",
   "execution_count": 75,
   "outputs": [],
   "source": [
    "max_df = df.groupBy(f.to_date(\"timestamp\").alias(\"date\")).agg(\n",
    "    f.max(f.coalesce(\"temperature_maximum\", \"temperature\")).alias(\"temperature\"))"
   ],
   "metadata": {
    "collapsed": false
   }
  },
  {
   "cell_type": "code",
   "execution_count": 76,
   "outputs": [
    {
     "name": "stderr",
     "output_type": "stream",
     "text": [
      "                                                                                \r"
     ]
    },
    {
     "data": {
      "text/plain": "184"
     },
     "execution_count": 76,
     "metadata": {},
     "output_type": "execute_result"
    }
   ],
   "source": [
    "max_df.count()"
   ],
   "metadata": {
    "collapsed": false
   }
  },
  {
   "cell_type": "code",
   "execution_count": 79,
   "outputs": [
    {
     "data": {
      "text/plain": "DataFrame[date: date, temperature: double]"
     },
     "execution_count": 79,
     "metadata": {},
     "output_type": "execute_result"
    }
   ],
   "source": [
    "max_df.cache()"
   ],
   "metadata": {
    "collapsed": false
   }
  },
  {
   "cell_type": "code",
   "execution_count": 82,
   "outputs": [],
   "source": [
    "filtered_df = max_df.where(f.col(\"temperature\") >= 25).orderBy(\"date\")"
   ],
   "metadata": {
    "collapsed": false
   }
  },
  {
   "cell_type": "code",
   "execution_count": 123,
   "outputs": [],
   "source": [
    "\n",
    "window_spec = Window.orderBy(\"date\")\n",
    "\n",
    "window_df = (filtered_df\n",
    "             .withColumn(\"date_lag\", f.lag(\"date\").over(window_spec))\n",
    "             .withColumn(\"date_lag_delta\", f.datediff(\"date\", \"date_lag\"))\n",
    "             .withColumn(\"date_lead\", f.lead(\"date\").over(window_spec))\n",
    "             .withColumn(\"date_lead_delta\", f.datediff(\"date_lead\", \"date\"))\n",
    "             .withColumn(\"sequence_start\", f.when(f.col(\"date_lag_delta\") > 1, \"start\"))\n",
    "             .withColumn(\"sequence_end\", f.when(f.col(\"date_lead_delta\") > 1, \"end\"))\n",
    "             # .withColumn(\"sequence_partition\", f.when(f.col(\"sequence_start\").isNotNull(), f.col(\"date\")).otherwise(f.lag(\"date\").over(window_spec)))\n",
    "             .withColumn(\"sequence_partition_2\",\n",
    "                         f.when(f.col(\"sequence_start\").isNotNull(), f.col(\"date\")).otherwise(f.last(\n",
    "                             f.when(f.col('sequence_start').isNull(), f.col('date')), True).over(window_spec.rowsBetween(Window.currentRow, Window.unboundedFollowing))\n",
    "                                                                                              )\n",
    "                         )\n",
    "\n",
    "#              .withColumn('grp', f.first(\n",
    "#     f.when(f.col('sequence_start').isNotNull(), f.col('date')), True).over(\n",
    "#     window_spec.rowsBetween(-1, 0)\n",
    "# )\n",
    "#                          )\n",
    "\n",
    "             )"
   ],
   "metadata": {
    "collapsed": false
   }
  },
  {
   "cell_type": "code",
   "execution_count": null,
   "outputs": [],
   "source": [
    "win = Window.orderBy(\"X\")\n",
    "# Condition : if preceeding row in column \"Flag\" is not 0\n",
    "condition = F.lag(F.col(\"Flag\"), 1).over(win) != 0\n",
    "# Add a new column : if condition is true, value is value of column \"X\" at the previous row\n",
    "a = a.withColumn(\"Flag_X\", F.when(condition, F.col(\"X\") - 1))\n",
    "\n",
    "a = a.withColumn(\"Flag_X\",\n",
    "                 F.last(F.col(\"Flag_X\"), ignorenulls=True)\\\n",
    "     .over(win))"
   ],
   "metadata": {
    "collapsed": false
   }
  },
  {
   "cell_type": "code",
   "execution_count": 130,
   "outputs": [],
   "source": [
    "\n",
    "# Use a window function\n",
    "win = Window.orderBy(\"date\")\n",
    "# Condition : if preceeding row in column \"Flag\" is not 0\n",
    "condition = f.lag(f.col(\"sequence_start\"), 1).over(win) != ''\n",
    "# Add a new column : if condition is true, value is value of column \"X\" at the previous row\n",
    "a = window_df.withColumn(\"part\", f.when(condition, f.col(\"date\") - 1))\n",
    "\n",
    "a = a.withColumn(\"part\",\n",
    "                 f.last(f.col(\"part\"), ignorenulls=True)\\\n",
    "     .over(win))"
   ],
   "metadata": {
    "collapsed": false
   }
  },
  {
   "cell_type": "code",
   "execution_count": 140,
   "outputs": [],
   "source": [
    "# Use a window function\n",
    "win = Window.orderBy(\"date\")\n",
    "# Condition : if preceeding row in column \"Flag\" is not 0\n",
    "condition = f.lag(f.col(\"sequence_start\"), 1).over(win) != ''\n",
    "start_condition = f.col(\"sequence_start\") == 'start'\n",
    "# Add a new column : if condition is true, value is value of column \"X\" at the previous row\n",
    "a = window_df.withColumn(\"part\", f.when(start_condition, f.col(\"date\")))\n",
    "\n",
    "a = a.withColumn(\"part\",\n",
    "                 f.last(f.col(\"part\"), ignorenulls=True)\\\n",
    "     .over(win))"
   ],
   "metadata": {
    "collapsed": false
   }
  },
  {
   "cell_type": "code",
   "execution_count": 142,
   "outputs": [
    {
     "name": "stderr",
     "output_type": "stream",
     "text": [
      "23/07/15 20:57:21 WARN WindowExec: No Partition Defined for Window operation! Moving all data to a single partition, this can cause serious performance degradation.\n",
      "23/07/15 20:57:21 WARN WindowExec: No Partition Defined for Window operation! Moving all data to a single partition, this can cause serious performance degradation.\n",
      "23/07/15 20:57:21 WARN WindowExec: No Partition Defined for Window operation! Moving all data to a single partition, this can cause serious performance degradation.\n",
      "23/07/15 20:57:21 WARN WindowExec: No Partition Defined for Window operation! Moving all data to a single partition, this can cause serious performance degradation.\n",
      "23/07/15 20:57:21 WARN WindowExec: No Partition Defined for Window operation! Moving all data to a single partition, this can cause serious performance degradation.\n",
      "23/07/15 20:57:21 WARN WindowExec: No Partition Defined for Window operation! Moving all data to a single partition, this can cause serious performance degradation.\n",
      "23/07/15 20:57:21 WARN WindowExec: No Partition Defined for Window operation! Moving all data to a single partition, this can cause serious performance degradation.\n",
      "23/07/15 20:57:21 WARN WindowExec: No Partition Defined for Window operation! Moving all data to a single partition, this can cause serious performance degradation.\n",
      "23/07/15 20:57:21 WARN WindowExec: No Partition Defined for Window operation! Moving all data to a single partition, this can cause serious performance degradation.\n",
      "23/07/15 20:57:21 WARN WindowExec: No Partition Defined for Window operation! Moving all data to a single partition, this can cause serious performance degradation.\n",
      "23/07/15 20:57:21 WARN WindowExec: No Partition Defined for Window operation! Moving all data to a single partition, this can cause serious performance degradation.\n",
      "23/07/15 20:57:21 WARN WindowExec: No Partition Defined for Window operation! Moving all data to a single partition, this can cause serious performance degradation.\n",
      "23/07/15 20:57:21 WARN WindowExec: No Partition Defined for Window operation! Moving all data to a single partition, this can cause serious performance degradation.\n",
      "23/07/15 20:57:22 WARN WindowExec: No Partition Defined for Window operation! Moving all data to a single partition, this can cause serious performance degradation.\n",
      "23/07/15 20:57:22 WARN WindowExec: No Partition Defined for Window operation! Moving all data to a single partition, this can cause serious performance degradation.\n",
      "23/07/15 20:57:22 WARN WindowExec: No Partition Defined for Window operation! Moving all data to a single partition, this can cause serious performance degradation.\n",
      "23/07/15 20:57:22 WARN WindowExec: No Partition Defined for Window operation! Moving all data to a single partition, this can cause serious performance degradation.\n",
      "23/07/15 20:57:22 WARN WindowExec: No Partition Defined for Window operation! Moving all data to a single partition, this can cause serious performance degradation.\n",
      "23/07/15 20:57:22 WARN WindowExec: No Partition Defined for Window operation! Moving all data to a single partition, this can cause serious performance degradation.\n",
      "                                                                                \r"
     ]
    },
    {
     "name": "stdout",
     "output_type": "stream",
     "text": [
      "+----------+-----------+----------+--------------+----------+---------------+--------------+------------+--------------------+----------+\n",
      "|      date|temperature|  date_lag|date_lag_delta| date_lead|date_lead_delta|sequence_start|sequence_end|sequence_partition_2|      part|\n",
      "+----------+-----------+----------+--------------+----------+---------------+--------------+------------+--------------------+----------+\n",
      "|2003-05-29|       25.9|      null|          null|2003-05-30|              1|          null|        null|          2003-09-18|      null|\n",
      "|2003-05-30|       27.5|2003-05-29|             1|2003-05-31|              1|          null|        null|          2003-09-18|      null|\n",
      "|2003-05-31|       25.1|2003-05-30|             1|2003-06-01|              1|          null|        null|          2003-09-18|      null|\n",
      "|2003-06-01|       28.1|2003-05-31|             1|2003-06-02|              1|          null|        null|          2003-09-18|      null|\n",
      "|2003-06-02|       27.2|2003-06-01|             1|2003-06-04|              2|          null|         end|          2003-09-18|      null|\n",
      "|2003-06-04|       28.9|2003-06-02|             2|2003-06-06|              2|         start|         end|          2003-06-04|2003-06-04|\n",
      "|2003-06-06|       25.0|2003-06-04|             2|2003-06-07|              1|         start|        null|          2003-06-06|2003-06-06|\n",
      "|2003-06-07|       26.5|2003-06-06|             1|2003-06-08|              1|          null|        null|          2003-09-18|2003-06-06|\n",
      "|2003-06-08|       25.4|2003-06-07|             1|2003-06-10|              2|          null|         end|          2003-09-18|2003-06-06|\n",
      "|2003-06-10|       25.4|2003-06-08|             2|2003-06-16|              6|         start|         end|          2003-06-10|2003-06-10|\n",
      "|2003-06-16|       25.0|2003-06-10|             6|2003-06-17|              1|         start|        null|          2003-06-16|2003-06-16|\n",
      "|2003-06-17|       25.4|2003-06-16|             1|2003-06-22|              5|          null|         end|          2003-09-18|2003-06-16|\n",
      "|2003-06-22|       25.3|2003-06-17|             5|2003-06-23|              1|         start|        null|          2003-06-22|2003-06-22|\n",
      "|2003-06-23|       26.5|2003-06-22|             1|2003-06-26|              3|          null|         end|          2003-09-18|2003-06-22|\n",
      "|2003-06-26|       25.0|2003-06-23|             3|2003-06-27|              1|         start|        null|          2003-06-26|2003-06-26|\n",
      "|2003-06-27|       27.5|2003-06-26|             1|2003-07-10|             13|          null|         end|          2003-09-18|2003-06-26|\n",
      "|2003-07-10|       26.1|2003-06-27|            13|2003-07-11|              1|         start|        null|          2003-07-10|2003-07-10|\n",
      "|2003-07-11|       25.9|2003-07-10|             1|2003-07-13|              2|          null|         end|          2003-09-18|2003-07-10|\n",
      "|2003-07-13|       25.1|2003-07-11|             2|2003-07-14|              1|         start|        null|          2003-07-13|2003-07-13|\n",
      "|2003-07-14|       27.8|2003-07-13|             1|2003-07-15|              1|          null|        null|          2003-09-18|2003-07-13|\n",
      "|2003-07-15|       31.2|2003-07-14|             1|2003-07-16|              1|          null|        null|          2003-09-18|2003-07-13|\n",
      "|2003-07-16|       34.3|2003-07-15|             1|2003-07-18|              2|          null|         end|          2003-09-18|2003-07-13|\n",
      "|2003-07-18|       25.0|2003-07-16|             2|2003-07-19|              1|         start|        null|          2003-07-18|2003-07-18|\n",
      "|2003-07-19|       31.1|2003-07-18|             1|2003-07-20|              1|          null|        null|          2003-09-18|2003-07-18|\n",
      "|2003-07-20|       30.7|2003-07-19|             1|2003-07-21|              1|          null|        null|          2003-09-18|2003-07-18|\n",
      "|2003-07-21|       28.1|2003-07-20|             1|2003-07-22|              1|          null|        null|          2003-09-18|2003-07-18|\n",
      "|2003-07-22|       25.2|2003-07-21|             1|2003-07-23|              1|          null|        null|          2003-09-18|2003-07-18|\n",
      "|2003-07-23|       26.3|2003-07-22|             1|2003-07-29|              6|          null|         end|          2003-09-18|2003-07-18|\n",
      "|2003-07-29|       27.1|2003-07-23|             6|2003-07-31|              2|         start|         end|          2003-07-29|2003-07-29|\n",
      "|2003-07-31|       26.9|2003-07-29|             2|2003-08-01|              1|         start|        null|          2003-07-31|2003-07-31|\n",
      "|2003-08-01|       28.3|2003-07-31|             1|2003-08-02|              1|          null|        null|          2003-09-18|2003-07-31|\n",
      "|2003-08-02|       26.7|2003-08-01|             1|2003-08-03|              1|          null|        null|          2003-09-18|2003-07-31|\n",
      "|2003-08-03|       26.9|2003-08-02|             1|2003-08-04|              1|          null|        null|          2003-09-18|2003-07-31|\n",
      "|2003-08-04|       29.7|2003-08-03|             1|2003-08-05|              1|          null|        null|          2003-09-18|2003-07-31|\n",
      "|2003-08-05|       30.8|2003-08-04|             1|2003-08-06|              1|          null|        null|          2003-09-18|2003-07-31|\n",
      "|2003-08-06|       33.9|2003-08-05|             1|2003-08-07|              1|          null|        null|          2003-09-18|2003-07-31|\n",
      "|2003-08-07|       35.0|2003-08-06|             1|2003-08-08|              1|          null|        null|          2003-09-18|2003-07-31|\n",
      "|2003-08-08|       30.9|2003-08-07|             1|2003-08-09|              1|          null|        null|          2003-09-18|2003-07-31|\n",
      "|2003-08-09|       26.5|2003-08-08|             1|2003-08-10|              1|          null|        null|          2003-09-18|2003-07-31|\n",
      "|2003-08-10|       30.4|2003-08-09|             1|2003-08-11|              1|          null|        null|          2003-09-18|2003-07-31|\n",
      "|2003-08-11|       31.5|2003-08-10|             1|2003-08-12|              1|          null|        null|          2003-09-18|2003-07-31|\n",
      "|2003-08-12|       33.8|2003-08-11|             1|2003-08-13|              1|          null|        null|          2003-09-18|2003-07-31|\n",
      "|2003-08-13|       26.1|2003-08-12|             1|2003-09-05|             23|          null|         end|          2003-09-18|2003-07-31|\n",
      "|2003-09-05|       25.0|2003-08-13|            23|2003-09-17|             12|         start|         end|          2003-09-05|2003-09-05|\n",
      "|2003-09-17|       25.3|2003-09-05|            12|2003-09-18|              1|         start|        null|          2003-09-17|2003-09-17|\n",
      "|2003-09-18|       28.6|2003-09-17|             1|2003-09-20|              2|          null|         end|          2003-09-18|2003-09-17|\n",
      "|2003-09-20|       27.4|2003-09-18|             2|2003-09-22|              2|         start|         end|          2003-09-20|2003-09-20|\n",
      "|2003-09-22|       26.1|2003-09-20|             2|      null|           null|         start|        null|          2003-09-22|2003-09-22|\n",
      "+----------+-----------+----------+--------------+----------+---------------+--------------+------------+--------------------+----------+\n",
      "\n"
     ]
    }
   ],
   "source": [
    "a.show(200)"
   ],
   "metadata": {
    "collapsed": false
   }
  },
  {
   "cell_type": "code",
   "execution_count": null,
   "outputs": [],
   "source": [
    "a.withColumn(\"partition\", f.when(f.col(\"sequence_start\").isNotNull(), f.col(\"sequence_start\")))"
   ],
   "metadata": {
    "collapsed": false
   }
  }
 ],
 "metadata": {
  "kernelspec": {
   "display_name": "Python 3 (ipykernel)",
   "language": "python",
   "name": "python3"
  },
  "language_info": {
   "codemirror_mode": {
    "name": "ipython",
    "version": 3
   },
   "file_extension": ".py",
   "mimetype": "text/x-python",
   "name": "python",
   "nbconvert_exporter": "python",
   "pygments_lexer": "ipython3",
   "version": "3.11.4"
  }
 },
 "nbformat": 4,
 "nbformat_minor": 1
}
